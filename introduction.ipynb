{
 "cells": [
  {
   "cell_type": "markdown",
   "metadata": {},
   "source": [
    "# Добро пожаловать в мир дифференцируемых функций"
   ]
  },
  {
   "cell_type": "markdown",
   "metadata": {},
   "source": [
    "Для начала небольшой ликбез, кто в школе ещё не проходил начала анализа."
   ]
  },
  {
   "cell_type": "markdown",
   "metadata": {},
   "source": [
    "**Производная**. Интуитивно, производной называют скорость изменения функции. Давайте изменим $x$ на какой-то очень малый $\\Delta x$, посмотрим какой получился $Delta y$, а их отношение $\\frac{\\Delta y}{\\Delta x}$ назовем производной. Это можно записать так:\n",
    "\n",
    "$$ f'(x) = \\frac{\\Delta y}{\\Delta x} = \\frac{f(x+\\Delta x) - f(x)}{\\Delta x}, \\quad \\Delta x \\to 0 $$\n",
    "\n",
    "Для элементарных функций её в основном считают, пользуясь этим определением. Например для функции $x^2$ она такая:\n",
    "\n",
    "$$ f'(x) = (x^2)' = \\frac{(x+\\Delta x)^2 - x^2}{\\Delta x} = \\frac{2x\\Delta x + \\Delta x^2}{\\Delta x} = 2x + \\Delta x \\to 2x $$"
   ]
  },
  {
   "cell_type": "markdown",
   "metadata": {},
   "source": [
    "У производной очень много полезных свойств, позволяющих нам исследовать функции. Например, точке экстремума (то есть минимума, максимума или «седловой» точке) производная должна равняться нулю. Поэтому большинство простых задач на оптимизацию функции заключается в том, чтобы посчитать её производную (не фиксируя $x$), приравнять к нулю и посмотреть, в каких точках это равенство выполняется. "
   ]
  },
  {
   "cell_type": "markdown",
   "metadata": {},
   "source": [
    "**Градиент**. Что, если у нас фукция от нескольких переменных? В таком случае вводят обобщение производной — градиент. Это вектор (набор чисел), каждой компонентой которого является значение производной по очередному аргументу при фиксированных остальных."
   ]
  },
  {
   "cell_type": "markdown",
   "metadata": {},
   "source": [
    "**Ок, зачем он нужен?** Пусть у нас есть какая-нибудь функция, которую мы хотим минимизировать, и мы предполагаем, что она выглядит как что-то типа гладкой ямы. Тогда мы можем попытаться действовать так: начнем с какой-нибудь точки и будем делать много очень маленьких шажков в сторону наибольшего уменьшения функции, пока не придем в локальный минимум.\n",
    "\n",
    "* Что значит «в сторону наибольшего уменьшения»? Это значит «против градиаента».\n",
    "* Что такое «маленький шажок»? Это значит $-\\lambda \\cdot (f'_1, f'_2, \\ldots, f'_n)$. Обычно $\\lambda$ это что-то типа $10^{-3}$. Этот параметр называется learning rate (скорость обучения).\n",
    "* Что значит «пока не придём в локальный минимум». Это значит «пока градиент не ноль». На практике будем проверять, что норма (т. е. длина вектора) больше определенного очень малого $\\epsilon$."
   ]
  },
  {
   "cell_type": "markdown",
   "metadata": {},
   "source": [
    "![grad_descent](images/gradient_descent.png)"
   ]
  },
  {
   "cell_type": "markdown",
   "metadata": {},
   "source": [
    "Если learning rate достоаточно маленький, мы точно придем хотя бы в локальный минимум. Этот метод называется **градиаентным спуском**, и он очень часто применяется для оптимизации тех функций, у которых везде можно быстро посчитать градиент. Гарантированно находить глобальный минимум произвольной функции пока наука не умеет и вряд ли когда-либо научится."
   ]
  },
  {
   "cell_type": "markdown",
   "metadata": {},
   "source": [
    "# Ок, зачем это надо?"
   ]
  },
  {
   "cell_type": "markdown",
   "metadata": {},
   "source": [
    "Определим следующую «иерархию хороших функций»:\n",
    "\n",
    "* Аналитически решаемые, то есть минимум которых можно выразить какой-то простой формулой. Например, таким является линейная регрессия — можно взять производную, приравлять к нулю и выразить сразу все параметры.\n",
    "* Выпуклые. У них гарантируется решение, причём единственное. Его можно найти разными методами, в частности градиентным спуском, но обычно даже быстрее, чем спуском. Пример: логистическая регрессия.\n",
    "* Дифференцируемые. К ним можно применить градиентный спуск, но нужно очень много изворачиваться, чтобы он сошелся не к локальному минимуму, а к глобальному. **<-- YOU ARE HERE**\n",
    "* Дискретные. Тут всё грустно, но нам хотя бы можно быстро узнать её значение.\n",
    "* Невычислимые. Иногда нам нужно оценивать что-нибудь совсем не формализуемое математикой — например, качество перевода, или поведение пользователя. Невычислимыми функциями в частности занимается Reinforcement Learning."
   ]
  },
  {
   "cell_type": "markdown",
   "metadata": {},
   "source": [
    "Глубокое обучение — это про все методы, чьи функции потерь достаточно хорошие — то есть имеют производную."
   ]
  },
  {
   "cell_type": "markdown",
   "metadata": {},
   "source": [
    "![hierarchy](images/hierarchy.png)"
   ]
  },
  {
   "cell_type": "markdown",
   "metadata": {},
   "source": [
    "# Как устроен цикл обучения"
   ]
  },
  {
   "cell_type": "markdown",
   "metadata": {},
   "source": [
    "В уже рассмотренных в курсе общего ML алгоритмов не было такого понятия, как цикл обучения. Все методы обучались сразу или почти каким-то аналитическим образом. Здесь же это важно, потому что нейросети обучаются очень долго — иногда по несколько недель на очень мощном и дорогом оборудовании — чтобы «сойтись» и дать какой-то результат.\n",
    "\n",
    "На вход нейросети подаются какие-то векторизованные данные (все действительные числа). С ними происходят какие-то последовательные преобразования, после чего то, что получилось «скармливается» в функцию потерь, которая возвращает какое-то число, которое нужно минимизировать. Концепция не сильно изменилась, только теперь все преобразования (включая функцию потерь) у нас дифференцируемые, чтобы к ним можно было применить градиентный спуск."
   ]
  },
  {
   "cell_type": "markdown",
   "metadata": {},
   "source": [
    "![nn](images/nn.png)"
   ]
  },
  {
   "cell_type": "markdown",
   "metadata": {},
   "source": [
    "**Как на самом деле оно считается.** То, что мы описали, реализовывать в таком виде очень неэффективно. Вот как это оптимизировать:\n",
    "\n",
    "* Чтобы сделать обновление параметров, не обязательно проходить по всему датасету и считать градиент каждого и складывать. Достаточно взять сколько-нибудь случайных сэмплов и посчитать градиент на них и использовать для обновления весов. Получится оценка шумная, но достаточно точная для одного обновления. Такое подмножество называется батчем, а сам метод называют **стохастическим градиентным спуском**.\n",
    "* Есть разные методы, позволяющие выбираться из локальных минимумов. Представьте, что наш вектор всех-всех-всех параметров — это мячик, и он куда-то катится и обладает какой-то инерцией.\n",
    "* Градиенты нужно ещё посчитать. Делать это для каждого параметра отдельно очень долго. Это делается с помощью алгоритма, напоминающего. Вдаваться в подробности его работы мы не будем, но, если хотите когда-нибудь заниматься DL серьёзнее, то осознать его обязательно."
   ]
  },
  {
   "cell_type": "markdown",
   "metadata": {},
   "source": [
    "**Фреймворки**. Я не хочу вас заставлять считать производные самим. Закодить весь цикл обучение нейросетей вручную очень полезно, но это нужно сделать ровно один раз в жизни, чтобы никогда больше такой фигней не заниматься. Существует множество фреймворков, работающих с нейросетями, которые считают эти градиенты и оптимизируют сети и делают прочую неблагодарную работу за нас, предлагая нам по-просту в декларативном стиле описать нужные нам преобразования. В конечном счете, за 10-20 строками кода на Keras будут стоять несколько тысяч строк кода низкоуровневых библиотек. **Ни один адекватный человек в мире не кодит нейросети вручную**."
   ]
  },
  {
   "cell_type": "markdown",
   "metadata": {},
   "source": [
    "# Keras"
   ]
  },
  {
   "cell_type": "markdown",
   "metadata": {},
   "source": [
    "Мы выбрали Keras в качестве фреймворка. Он самый простой для понимания.\n",
    "\n",
    "Есть стандартный датасет, называется MNIST. В нем 60000 картинок с рукописными цифрами 28x28, по 6000 на каждую цифру от 0 до 9. Требуется правильно их классифицировать."
   ]
  },
  {
   "cell_type": "code",
   "execution_count": 30,
   "metadata": {},
   "outputs": [],
   "source": [
    "import keras\n",
    "from keras.layers import Dense # «плотный» слой — матричное умножение\n",
    "from keras.models import Sequential # вспомогательный класс, позволяющий последовательно выполнять операции"
   ]
  },
  {
   "cell_type": "code",
   "execution_count": 31,
   "metadata": {
    "collapsed": true
   },
   "outputs": [],
   "source": [
    "from keras.datasets import mnist # датасет настолько известный, что он есть по умолчанию почти везде\n",
    "#(x_train, y_train), (x_test, y_test) = mnist.load_data()\n",
    "(X, y), _ = mnist.load_data()"
   ]
  },
  {
   "cell_type": "code",
   "execution_count": 29,
   "metadata": {},
   "outputs": [
    {
     "data": {
      "image/png": "[encoded data removed]",
      "text/plain": [
       "<matplotlib.figure.Figure at 0x7ff559710f60>"
      ]
     },
     "metadata": {},
     "output_type": "display_data"
    }
   ],
   "source": [
    "import matplotlib.pyplot as plt\n",
    "%matplotlib inline\n",
    "\n",
    "plt.axis('off')\n",
    "plt.imshow(X[5])\n",
    "plt.show()"
   ]
  },
  {
   "cell_type": "code",
   "execution_count": null,
   "metadata": {
    "collapsed": true
   },
   "outputs": [],
   "source": []
  },
  {
   "cell_type": "markdown",
   "metadata": {},
   "source": [
    "Особенности формата: сейчас каждая картинка представляет собой трехмерные массивы (напомним, что многомерные массивы называют тензорами) размера n x 28 x 28. Мы хотим представить каждую как вектор размера $784 = 28^2$."
   ]
  },
  {
   "cell_type": "code",
   "execution_count": 8,
   "metadata": {},
   "outputs": [],
   "source": [
    "X = X.reshape(60000, 784)"
   ]
  },
  {
   "cell_type": "markdown",
   "metadata": {},
   "source": [
    "Ещё одна деталь: инициализация весов — отдельное искусство. Очень важно, чтобы они изначальны были не совсем далеко от желаемых, иначе градиентный спуск будет шагать уж очень далеко. В фреймворках оно опять же сделано за нас, но так, что предполагает, что входные данные — числа порядка единицы, а сейчас они от 0 до 255. Исправим это:"
   ]
  },
  {
   "cell_type": "code",
   "execution_count": 9,
   "metadata": {
    "collapsed": true
   },
   "outputs": [],
   "source": [
    "X = X.astype('float32')\n",
    "X /= 255"
   ]
  },
  {
   "cell_type": "markdown",
   "metadata": {},
   "source": [
    "**Про функцию потерь**. Напоминаем интуицию за принципом максимального правдоподобия: максимизируем произведение прсказанных вероятностей реальных событий $ L = \\prod p_i $.\n",
    "\n",
    "Произведение оптимизировать очень не удобно, и поэтому воспользуемся следующим трюком: возьмем логарифм (любой, ведь все логарифмы отличаются в константу раз) и будем максимизировать сумму:\n",
    "\n",
    "$$ \\log L = \\log \\prod p_i = \\sum \\log p_i $$\n",
    "\n",
    "Эту штуку называют кроссэнтропией. Такое название пошло из теории информации, но нам пока знать это не надо.\n",
    "\n",
    "Для удобноства вместо чисел — от 0 до 9 — сконвертируем их в вектора размера 10, где будет стоять единица в нужном месте (такая кодировка называется one-hot)."
   ]
  },
  {
   "cell_type": "code",
   "execution_count": 11,
   "metadata": {},
   "outputs": [],
   "source": [
    "y = keras.utils.to_categorical(y, 10)"
   ]
  },
  {
   "cell_type": "markdown",
   "metadata": {},
   "source": [
    "Собственно, вот в чем прелесть Keras: вся модель описывается в пять строчек."
   ]
  },
  {
   "cell_type": "code",
   "execution_count": 12,
   "metadata": {
    "collapsed": true
   },
   "outputs": [],
   "source": [
    "model = Sequential([\n",
    "    Dense(512, activation='relu', input_shape=(784,)),\n",
    "    Dense(128, activation='relu'),\n",
    "    Dense(64, activation='relu'),\n",
    "    Dense(10, activation='softmax'),\n",
    "])"
   ]
  },
  {
   "cell_type": "markdown",
   "metadata": {},
   "source": [
    "Есть специальная функция, которая позволит проверить, что мы все сделали правильно."
   ]
  },
  {
   "cell_type": "code",
   "execution_count": 13,
   "metadata": {},
   "outputs": [
    {
     "name": "stdout",
     "output_type": "stream",
     "text": [
      "_________________________________________________________________\n",
      "Layer (type)                 Output Shape              Param #   \n",
      "=================================================================\n",
      "dense_1 (Dense)              (None, 512)               401920    \n",
      "_________________________________________________________________\n",
      "dense_2 (Dense)              (None, 128)               65664     \n",
      "_________________________________________________________________\n",
      "dense_3 (Dense)              (None, 64)                8256      \n",
      "_________________________________________________________________\n",
      "dense_4 (Dense)              (None, 10)                650       \n",
      "=================================================================\n",
      "Total params: 476,490\n",
      "Trainable params: 476,490\n",
      "Non-trainable params: 0\n",
      "_________________________________________________________________\n"
     ]
    }
   ],
   "source": [
    "model.summary()"
   ]
  },
  {
   "cell_type": "markdown",
   "metadata": {},
   "source": [
    "Keras оборачивает *статические* фреймворки. Им нужно скомпилировать сеть, заранее передав функцию потерь, оптимизатор и, опционально, желаемые метрики."
   ]
  },
  {
   "cell_type": "code",
   "execution_count": 20,
   "metadata": {
    "scrolled": true
   },
   "outputs": [
    {
     "name": "stdout",
     "output_type": "stream",
     "text": [
      "Train on 4500 samples, validate on 500 samples\n",
      "Epoch 1/20\n",
      "4500/4500 [==============================] - 1s - loss: 0.0545 - acc: 0.9873 - val_loss: 0.0481 - val_acc: 0.9900\n",
      "Epoch 2/20\n",
      "4500/4500 [==============================] - 1s - loss: 0.0494 - acc: 0.9896 - val_loss: 0.0450 - val_acc: 0.9860\n",
      "Epoch 3/20\n",
      "4500/4500 [==============================] - 1s - loss: 0.0448 - acc: 0.9913 - val_loss: 0.0477 - val_acc: 0.9900\n",
      "Epoch 4/20\n",
      "4500/4500 [==============================] - 1s - loss: 0.0410 - acc: 0.9918 - val_loss: 0.0486 - val_acc: 0.9880\n",
      "Epoch 5/20\n",
      "4500/4500 [==============================] - 1s - loss: 0.0376 - acc: 0.9927 - val_loss: 0.0496 - val_acc: 0.9860\n",
      "Epoch 6/20\n",
      "4500/4500 [==============================] - 1s - loss: 0.0351 - acc: 0.9936 - val_loss: 0.0502 - val_acc: 0.9880\n",
      "Epoch 7/20\n",
      "4500/4500 [==============================] - 1s - loss: 0.0327 - acc: 0.9947 - val_loss: 0.0504 - val_acc: 0.9860\n",
      "Epoch 8/20\n",
      "4500/4500 [==============================] - 1s - loss: 0.0305 - acc: 0.9960 - val_loss: 0.0544 - val_acc: 0.9840\n",
      "Epoch 9/20\n",
      "4500/4500 [==============================] - 1s - loss: 0.0287 - acc: 0.9958 - val_loss: 0.0507 - val_acc: 0.9840\n",
      "Epoch 10/20\n",
      "4500/4500 [==============================] - 1s - loss: 0.0267 - acc: 0.9973 - val_loss: 0.0550 - val_acc: 0.9880\n",
      "Epoch 11/20\n",
      "4500/4500 [==============================] - 1s - loss: 0.0250 - acc: 0.9980 - val_loss: 0.0571 - val_acc: 0.9820\n",
      "Epoch 12/20\n",
      "4500/4500 [==============================] - 1s - loss: 0.0242 - acc: 0.9978 - val_loss: 0.0541 - val_acc: 0.9840\n",
      "Epoch 13/20\n",
      "4500/4500 [==============================] - 1s - loss: 0.0224 - acc: 0.9982 - val_loss: 0.0541 - val_acc: 0.9820\n",
      "Epoch 14/20\n",
      "4500/4500 [==============================] - 1s - loss: 0.0212 - acc: 0.9982 - val_loss: 0.0520 - val_acc: 0.9860\n",
      "Epoch 15/20\n",
      "4500/4500 [==============================] - 1s - loss: 0.0202 - acc: 0.9989 - val_loss: 0.0551 - val_acc: 0.9840\n",
      "Epoch 16/20\n",
      "4500/4500 [==============================] - 1s - loss: 0.0189 - acc: 0.9984 - val_loss: 0.0536 - val_acc: 0.9860\n",
      "Epoch 17/20\n",
      "4500/4500 [==============================] - 1s - loss: 0.0179 - acc: 0.9991 - val_loss: 0.0536 - val_acc: 0.9840\n",
      "Epoch 18/20\n",
      "4500/4500 [==============================] - 1s - loss: 0.0172 - acc: 0.9991 - val_loss: 0.0537 - val_acc: 0.9820\n",
      "Epoch 19/20\n",
      "4500/4500 [==============================] - 1s - loss: 0.0162 - acc: 0.9993 - val_loss: 0.0565 - val_acc: 0.9860\n",
      "Epoch 20/20\n",
      "4500/4500 [==============================] - 1s - loss: 0.0156 - acc: 0.9993 - val_loss: 0.0567 - val_acc: 0.9820\n"
     ]
    }
   ],
   "source": [
    "model.compile(loss='categorical_crossentropy',\n",
    "              optimizer='sgd',\n",
    "              metrics=['accuracy'])\n",
    "\n",
    "# Давайте обрежем X и y, чтобы обучалось побыстрее\n",
    "X = X[:5000]\n",
    "y = y[:5000]\n",
    "\n",
    "# history нам поможет строить всякие графики\n",
    "history = model.fit(X, y,\n",
    "          batch_size=32,\n",
    "          epochs=20,\n",
    "          validation_split=0.1)"
   ]
  },
  {
   "cell_type": "code",
   "execution_count": 21,
   "metadata": {
    "collapsed": true
   },
   "outputs": [],
   "source": [
    "import matplotlib.pyplot as plt\n",
    "%matplotlib inline\n",
    "\n",
    "import seaborn as sns\n",
    "sns.set()"
   ]
  },
  {
   "cell_type": "code",
   "execution_count": 22,
   "metadata": {},
   "outputs": [
    {
     "data": {
      "image/png": "[encoded data removed]",
      "text/plain": [
       "<matplotlib.figure.Figure at 0x7ff54ca8b4e0>"
      ]
     },
     "metadata": {},
     "output_type": "display_data"
    }
   ],
   "source": [
    "plt.plot(history.history['acc'], c='r')\n",
    "plt.plot(history.history['val_acc'], c='b')\n",
    "plt.show()"
   ]
  },
  {
   "cell_type": "markdown",
   "metadata": {},
   "source": [
    "Попробуйте поиграться с параметрами сети. Попробуйте поставить другую функцию потерь, чтобы убедиться, что кроссэнтропия действительно лучше всех коррелирует с точностью."
   ]
  },
  {
   "cell_type": "markdown",
   "metadata": {},
   "source": [
    "Вот список крутых преобразований и регуляризаторов, которые могут зайти:\n",
    "* Sigmoid\n",
    "* Tanh\n",
    "* ReLU\n",
    "* Leaky ReLU\n",
    "* Dropout\n",
    "\n",
    "Разные оптимизаторы:\n",
    "* Adam\n",
    "* RMSProp\n",
    "* SGD\n",
    "* Adadelta\n",
    "\n",
    "Поэксперементируйте c learning rate и batch size. Постройте графики. Поизменяйте размеры слоев и попробуйте разную регуляризацию.\n",
    "\n",
    "Убедитесь, что sigmoid в промежутках пихать — плохая идея, а logloss лучше всех коррелирует с accuracy для классификации.\n",
    "\n",
    "Зайдите на (123)[https://playground.tensorflow.org/#activation=tanh&batchSize=10&dataset=circle&regDataset=reg-plane&learningRate=0.03&regularizationRate=0&noise=0&networkShape=4,2&seed=0.16907&showTestData=false&discretize=false&percTrainData=50&x=true&y=true&xTimesY=false&xSquared=false&ySquared=false&cosX=false&sinX=false&cosY=false&sinY=false&collectStats=false&problem=classification&initZero=false&hideText=false]."
   ]
  }
 ],
 "metadata": {
  "kernelspec": {
   "display_name": "Python 3",
   "language": "python",
   "name": "python3"
  },
  "language_info": {
   "codemirror_mode": {
    "name": "ipython",
    "version": 3
   },
   "file_extension": ".py",
   "mimetype": "text/x-python",
   "name": "python",
   "nbconvert_exporter": "python",
   "pygments_lexer": "ipython3",
   "version": "3.5.2"
  }
 },
 "nbformat": 4,
 "nbformat_minor": 2
}
