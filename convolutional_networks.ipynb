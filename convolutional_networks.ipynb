{
 "cells": [
  {
   "cell_type": "markdown",
   "metadata": {},
   "source": [
    "# Свёрточные сети"
   ]
  },
  {
   "cell_type": "markdown",
   "metadata": {},
   "source": [
    "Нейронные сети привлекли по-настоящему всеобщее внимание в 2012 году, когда Алекс Крижевски благодаря им выиграл конкурс ImageNet — крупнейшее ежегодное соревнование по машинному зрению — снизив рекорд ошибок классификации с 26% до 15%, что тогда стало прорывом. "
   ]
  },
  {
   "cell_type": "markdown",
   "metadata": {},
   "source": [
    "Свёрточные сети были придуманы при анализе части мозга, отвечающей за зрение. Оказывается, что соответствующие нейроны отвечают за абстрактные фичи в сигнале."
   ]
  },
  {
   "cell_type": "markdown",
   "metadata": {},
   "source": [
    "Крижевски не сделал ничего принципиально нового. Он взял эту архитектуру, которая была придумана ещё в девяностых, и нашел способ обучить её быстро — то есть на GPU."
   ]
  },
  {
   "cell_type": "markdown",
   "metadata": {},
   "source": [
    "![CNN](https://habrastorage.org/files/c36/bc5/b99/c36bc5b99dc14342b156fa742b285418.png)"
   ]
  },
  {
   "cell_type": "markdown",
   "metadata": {},
   "source": [
    "# Представление изображений"
   ]
  },
  {
   "cell_type": "markdown",
   "metadata": {},
   "source": [
    "Изображения будем представлять.\n",
    "\n",
    "Хоть в случае черно-белых картинок (MNIST) первое измерение всегда равно единице, все равно будем.\n",
    "\n",
    "Когда говорят «изображение», представляйте не прямоугольник, а параллелепипед, высотой которого будет размер каналов."
   ]
  },
  {
   "cell_type": "markdown",
   "metadata": {},
   "source": [
    "# Свёртка"
   ]
  },
  {
   "cell_type": "markdown",
   "metadata": {},
   "source": [
    "Суть у них такая: давайте введем такую функцию, как **ядро** (англ. **kernel**). Он\n",
    "\n",
    "1. Разобьем искомый паралеллелепипед на сколько-то одинаковых параллелепипедов. Они могут пересекаться.\n",
    "2. Каждый из них развернем в вектор.\n",
    "3. Каждый вектор и каждый \n",
    "4. Положим то, что получилось, в новый параллелепипед.\n",
    "5. Посчитаем для кажой ячейки какую-нибудь нелинейность."
   ]
  },
  {
   "cell_type": "markdown",
   "metadata": {},
   "source": [
    "![conv1](images/conv1.png)"
   ]
  },
  {
   "cell_type": "markdown",
   "metadata": {},
   "source": [
    "Можно добавить ещё такую вариацию:"
   ]
  },
  {
   "cell_type": "markdown",
   "metadata": {},
   "source": [
    "**Паддинг**. Padding — это когда мы добавляем фиктивные граничные ячейки, которые заполняем нулями"
   ]
  },
  {
   "cell_type": "markdown",
   "metadata": {},
   "source": [
    "**Страйды**. Stride — это насколько нужно сдвигать квадратики."
   ]
  },
  {
   "cell_type": "markdown",
   "metadata": {},
   "source": [
    "![conv1](images/conv2.png)"
   ]
  },
  {
   "cell_type": "markdown",
   "metadata": {},
   "source": [
    "# Пулинг"
   ]
  },
  {
   "cell_type": "markdown",
   "metadata": {},
   "source": [
    "Суть такая же, только в качестве ядра берется просто максимум, а между фильтрами (каналами) взаимодействия нет. Какая у этого интерпретация? Каждая ячейка хранит в себе некоторую оценку уверенности, что объект тут находится.\n",
    "\n",
    "Увернность на следующем слое можно представить как \n",
    "\n",
    "MaxPooling используется для downsampling-а.\n",
    "\n",
    "Пулинг это агрессивный даунсемплинг — он теряет информацию. Его критикуют, но он работает."
   ]
  },
  {
   "cell_type": "markdown",
   "metadata": {},
   "source": [
    "Вообще, свёртки есть не только для изображений. Иногда их применяют для анализа текстов или всяких геномов (одномерная свёртка) или 3д-изображений (всякие КТ, МРТ и прочие рентгены). Работают они примерно так же."
   ]
  },
  {
   "cell_type": "markdown",
   "metadata": {},
   "source": [
    "Тут можно много о чем подумать: сколько параметров будет в ядре, какая будет форма выходных данных, сколько оно будет считаться. Фреймворки классные, фреймворки делают это за нас."
   ]
  },
  {
   "cell_type": "markdown",
   "metadata": {},
   "source": [
    "# Почему это работает"
   ]
  },
  {
   "cell_type": "markdown",
   "metadata": {},
   "source": [
    "Если определенным образом визуализировать те пиксели, которые больше всего триггерят конкретные нейроны, то можно понять, что они учат какие-то все более и более абстратные фичи."
   ]
  },
  {
   "cell_type": "markdown",
   "metadata": {},
   "source": [
    "Весов получается **мало**, так как они будут пошарены. Параметров меньше, каждый отвечает не только за конкретный пиксель — сети сложнее переобучиться."
   ]
  },
  {
   "cell_type": "markdown",
   "metadata": {},
   "source": [
    "![cat pic](images/cat.png)"
   ]
  },
  {
   "cell_type": "markdown",
   "metadata": {},
   "source": [
    "# Свёртки"
   ]
  },
  {
   "cell_type": "markdown",
   "metadata": {},
   "source": [
    "Фундаментальное отличие свёрточного слоя от полносвязного в том, что свёртки учат локальные паттерны в данных."
   ]
  },
  {
   "cell_type": "code",
   "execution_count": 11,
   "metadata": {},
   "outputs": [],
   "source": [
    "import keras\n",
    "from keras.models import Sequential\n",
    "from keras.layers import Dense, Dropout, Flatten\n",
    "from keras.layers import Conv2D, MaxPooling2D"
   ]
  },
  {
   "cell_type": "markdown",
   "metadata": {},
   "source": [
    "Здесь нам уже не надо их разворачивать в один вектор, так как нам важна пространственная информация."
   ]
  },
  {
   "cell_type": "code",
   "execution_count": 19,
   "metadata": {},
   "outputs": [],
   "source": [
    "from keras.datasets import mnist\n",
    "\n",
    "(X, y), _ = mnist.load_data()\n",
    "\n",
    "y = keras.utils.to_categorical(y, 10)\n",
    "X = X.astype('float32')\n",
    "X /= 255\n",
    "\n",
    "# Сейчас X.shape это (60000, 28, 28)\n",
    "# Формат Keras требует для сверток четырехмерный тензор, последним измерением которого идет канал\n",
    "X = X.reshape(-1, 28, 28, 1)"
   ]
  },
  {
   "cell_type": "code",
   "execution_count": 22,
   "metadata": {},
   "outputs": [
    {
     "name": "stdout",
     "output_type": "stream",
     "text": [
      "_________________________________________________________________\n",
      "Layer (type)                 Output Shape              Param #   \n",
      "=================================================================\n",
      "conv2d_13 (Conv2D)           (None, 26, 26, 8)         80        \n",
      "_________________________________________________________________\n",
      "conv2d_14 (Conv2D)           (None, 24, 24, 16)        1168      \n",
      "_________________________________________________________________\n",
      "max_pooling2d_7 (MaxPooling2 (None, 12, 12, 16)        0         \n",
      "_________________________________________________________________\n",
      "dropout_12 (Dropout)         (None, 12, 12, 16)        0         \n",
      "_________________________________________________________________\n",
      "flatten_6 (Flatten)          (None, 2304)              0         \n",
      "_________________________________________________________________\n",
      "dense_10 (Dense)             (None, 128)               295040    \n",
      "_________________________________________________________________\n",
      "dropout_13 (Dropout)         (None, 128)               0         \n",
      "_________________________________________________________________\n",
      "dense_11 (Dense)             (None, 10)                1290      \n",
      "=================================================================\n",
      "Total params: 297,578\n",
      "Trainable params: 297,578\n",
      "Non-trainable params: 0\n",
      "_________________________________________________________________\n"
     ]
    }
   ],
   "source": [
    "model = Sequential([\n",
    "    # channels  kernel_size\n",
    "    Conv2D(8, (3, 3), activation='relu', input_shape=(28, 28, 1)),\n",
    "    Conv2D(16, (3, 3), activation='relu'), \n",
    "    MaxPooling2D(pool_size=(2, 2)),\n",
    "    Dropout(0.2),\n",
    "    Flatten(), # разглаживает в один большой вектор\n",
    "    Dense(128, activation='relu'), # Обычно такой добавляют в самый конец\n",
    "    Dropout(0.5),\n",
    "    Dense(10, activation='softmax')\n",
    "])\n",
    "\n",
    "model.summary()"
   ]
  },
  {
   "cell_type": "code",
   "execution_count": 24,
   "metadata": {},
   "outputs": [
    {
     "name": "stdout",
     "output_type": "stream",
     "text": [
      "Train on 54000 samples, validate on 6000 samples\n",
      "Epoch 1/1\n",
      "54000/54000 [==============================] - 64s - loss: 0.1032 - acc: 0.9694 - val_loss: 0.0461 - val_acc: 0.9867\n"
     ]
    },
    {
     "data": {
      "text/plain": [
       "<keras.callbacks.History at 0x7ff9254feac8>"
      ]
     },
     "execution_count": 24,
     "metadata": {},
     "output_type": "execute_result"
    }
   ],
   "source": [
    "model.compile(loss='categorical_crossentropy',\n",
    "              optimizer='adam',\n",
    "              metrics=['accuracy'])\n",
    "\n",
    "model.fit(X, y, batch_size=16, epochs=1, validation_split=0.1)"
   ]
  },
  {
   "cell_type": "markdown",
   "metadata": {},
   "source": [
    "Вот тут есть инструкция, как получить 99.5%, если прикрутить и зафайнтюнить все свистоперделки: https://www.kaggle.com/adityaecdrid/mnist-with-keras-for-beginners-99457"
   ]
  },
  {
   "cell_type": "markdown",
   "metadata": {},
   "source": [
    "# Синтезируем данные\n",
    "\n",
    "**Аугментацией** называется процесс получения новых данных из имеющихся. Это часто (особенно в компьютерном зрении) позволяет улучшить качество модели, не используя дополнительных данных.\n",
    "\n",
    "Можно попробовать добавить следующие преобразования, которые с какой-то вероятностью будут использоваться во время обучения:\n",
    "\n",
    "* Поворот на малый угол.\n",
    "* Добавление шума.\n",
    "* Обрезание границ и последующее растяжение до исходного размера.\n",
    "* Горизонтальное отражение (но в нашем случае оно вредно).\n",
    "* Смещение на небольшое расстояние.\n",
    "\n",
    "Понятно, что лейбл эти преобразования изменить не должны.\n",
    "\n",
    "Почти во всех фреймворках есть какой-то декларативный интерфейс для аугментации."
   ]
  },
  {
   "cell_type": "markdown",
   "metadata": {},
   "source": [
    "![dog](images/dog.jpeg)"
   ]
  },
  {
   "cell_type": "code",
   "execution_count": 28,
   "metadata": {},
   "outputs": [
    {
     "name": "stderr",
     "output_type": "stream",
     "text": [
      "/home/sergey/.local/lib/python3.5/site-packages/keras/preprocessing/image.py:648: UserWarning: Expected input to be images (as Numpy array) following the data format convention \"channels_last\" (channels on axis 3), i.e. expected either 1, 3 or 4 channels on axis 3. However, it was passed an array with shape (60000, 28, 28, 1) (1 channels).\n",
      "  ' (' + str(x.shape[self.channel_axis]) + ' channels).')\n"
     ]
    }
   ],
   "source": [
    "from keras.preprocessing.image import ImageDataGenerator\n",
    "\n",
    "gen = ImageDataGenerator(\n",
    "    rotation_range=20,\n",
    "    width_shift_range=0.2,\n",
    "    height_shift_range=0.2,\n",
    "    shear_range=0.2,\n",
    "    zoom_range=0.2,\n",
    "    fill_mode='nearest')\n",
    "\n",
    "gen.fit(X)"
   ]
  },
  {
   "cell_type": "code",
   "execution_count": null,
   "metadata": {
    "collapsed": true
   },
   "outputs": [],
   "source": [
    "model.fit_generator(gen.flow(X, y, batch_size=32),\n",
    "                    epochs = epochs, validation_split=0.1)"
   ]
  },
  {
   "cell_type": "markdown",
   "metadata": {},
   "source": [
    "# Как работать с внешними картинками"
   ]
  },
  {
   "cell_type": "code",
   "execution_count": 27,
   "metadata": {
    "collapsed": true
   },
   "outputs": [],
   "source": [
    "from keras.preprocessing.image import load_img, img_to_array\n",
    "from os import ???"
   ]
  }
 ],
 "metadata": {
  "kernelspec": {
   "display_name": "Python 3",
   "language": "python",
   "name": "python3"
  },
  "language_info": {
   "codemirror_mode": {
    "name": "ipython",
    "version": 3
   },
   "file_extension": ".py",
   "mimetype": "text/x-python",
   "name": "python",
   "nbconvert_exporter": "python",
   "pygments_lexer": "ipython3",
   "version": "3.5.2"
  }
 },
 "nbformat": 4,
 "nbformat_minor": 2
}
