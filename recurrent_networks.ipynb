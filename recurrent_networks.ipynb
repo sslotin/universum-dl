{
 "cells": [
  {
   "cell_type": "markdown",
   "metadata": {},
   "source": [
    "# DL и последовательные данные"
   ]
  },
  {
   "cell_type": "markdown",
   "metadata": {},
   "source": [
    "Для анализа последовательных данных — звука, музыки, текста, температуры в Мюнхене, изменения цены биткоина, спортивной статистики, шахматных ходов, состояний игры в Доте — используются свои архитектуры."
   ]
  },
  {
   "cell_type": "markdown",
   "metadata": {},
   "source": [
    "## Рекуррентные сети\n",
    "\n"
   ]
  },
  {
   "cell_type": "markdown",
   "metadata": {},
   "source": [
    "![RNN](https://i.stack.imgur.com/hzZ4m.png)"
   ]
  },
  {
   "cell_type": "markdown",
   "metadata": {},
   "source": [
    "На уровне псевдокода, оно выглядит так:"
   ]
  },
  {
   "cell_type": "code",
   "execution_count": null,
   "metadata": {
    "collapsed": true
   },
   "outputs": [],
   "source": [
    "h = 0\n",
    "for x in sequence:\n",
    "    h =  f(x, h)"
   ]
  },
  {
   "cell_type": "markdown",
   "metadata": {},
   "source": [
    "Давайте рассмотрим игрушечный пример — научим сеть предсказывать что-то шумное, изменяющееся по синусоиде. В Keras есть слой SimpleRNN, который делает примерно то же, что и этот псевдокод, только в качестве f мы выбираем матричное умножение и произвольную функцию активации."
   ]
  },
  {
   "cell_type": "code",
   "execution_count": 22,
   "metadata": {
    "collapsed": true
   },
   "outputs": [],
   "source": [
    "import numpy as np\n",
    "import matplotlib.pyplot as plt\n",
    "%matplotlib inline\n",
    "\n",
    "import seaborn as sns\n",
    "sns.set()"
   ]
  },
  {
   "cell_type": "markdown",
   "metadata": {},
   "source": [
    "Так как фреймворки из-за реализационных особенностей работают с батчами, а не единичными примерами, то входные данные должны иметь форму (размер_батча, длина, число фичей на вход). Заметьте, что длина у всех сэмплов должна быть одинакова. Если это не так, то короткие последовательности следует дополнить каким-нибудь пустым токеном."
   ]
  },
  {
   "cell_type": "markdown",
   "metadata": {},
   "source": [
    "На практике пайплайн такой:\n",
    "\n",
    "* Токенизировать данные\n",
    "* Сконвертировать в вектора\n",
    "* Пропустить через алгоритм, который вернет тоже вектора\n",
    "* Сконвертировать обратно (если мы генерируем тоже текст)\n",
    "\n",
    "Это не сложно, но это все не относится к DL."
   ]
  },
  {
   "cell_type": "code",
   "execution_count": 47,
   "metadata": {},
   "outputs": [],
   "source": [
    "from keras.datasets import imdb\n",
    "from keras.preprocessing import sequence\n",
    "\n",
    "vocab_size = 10000\n",
    "embedding_dim = 50\n",
    "\n",
    "(X, y), _ = imdb.load_data(num_words=vocab_size)"
   ]
  },
  {
   "cell_type": "markdown",
   "metadata": {},
   "source": [
    "Что происходит со словами, которые не вошли в топ самых популярых? Они все заменяются на специальный токен <UNK>."
   ]
  },
  {
   "cell_type": "code",
   "execution_count": 48,
   "metadata": {
    "scrolled": true
   },
   "outputs": [
    {
     "name": "stdout",
     "output_type": "stream",
     "text": [
      "467.0\n"
     ]
    },
    {
     "data": {
      "image/png": "[encoded data removed]",
      "text/plain": [
       "<matplotlib.figure.Figure at 0x7f953e87e198>"
      ]
     },
     "metadata": {},
     "output_type": "display_data"
    }
   ],
   "source": [
    "lens = [len(x) for x in X]\n",
    "sns.distplot(lens)\n",
    "print(np.percentile(lens, 90))"
   ]
  },
  {
   "cell_type": "markdown",
   "metadata": {},
   "source": [
    "Нам нужно ограничить размеры примеров. Выберем в качестве этого параметра что-то около 500. Это покроет более 90% примеров."
   ]
  },
  {
   "cell_type": "code",
   "execution_count": 49,
   "metadata": {
    "collapsed": true
   },
   "outputs": [],
   "source": [
    "maxlen = 500\n",
    "X = sequence.pad_sequences(X, maxlen=maxlen)"
   ]
  },
  {
   "cell_type": "code",
   "execution_count": 50,
   "metadata": {},
   "outputs": [
    {
     "name": "stdout",
     "output_type": "stream",
     "text": [
      "_________________________________________________________________\n",
      "Layer (type)                 Output Shape              Param #   \n",
      "=================================================================\n",
      "embedding_3 (Embedding)      (None, None, 50)          500000    \n",
      "_________________________________________________________________\n",
      "simple_rnn_3 (SimpleRNN)     (None, 50)                5050      \n",
      "_________________________________________________________________\n",
      "dense_3 (Dense)              (None, 1)                 51        \n",
      "=================================================================\n",
      "Total params: 505,101\n",
      "Trainable params: 505,101\n",
      "Non-trainable params: 0\n",
      "_________________________________________________________________\n"
     ]
    }
   ],
   "source": [
    "from keras.layers import SimpleRNN, Dense, Embedding\n",
    "from keras.models import Sequential\n",
    "\n",
    "RNN = Sequential([\n",
    "    Embedding(vocab_size, embedding_dim),\n",
    "    SimpleRNN(embedding_dim),\n",
    "    Dense(1, activation='sigmoid')\n",
    "])\n",
    "\n",
    "RNN.summary()"
   ]
  },
  {
   "cell_type": "code",
   "execution_count": 56,
   "metadata": {},
   "outputs": [
    {
     "name": "stdout",
     "output_type": "stream",
     "text": [
      "Train on 22500 samples, validate on 2500 samples\n",
      "Epoch 1/5\n",
      "22500/22500 [==============================] - 71s - loss: 0.6034 - acc: 0.6711 - val_loss: 0.5733 - val_acc: 0.6872\n",
      "Epoch 2/5\n",
      "22500/22500 [==============================] - 76s - loss: 0.4686 - acc: 0.7772 - val_loss: 0.4891 - val_acc: 0.7688\n",
      "Epoch 3/5\n",
      "22500/22500 [==============================] - 76s - loss: 0.4624 - acc: 0.7811 - val_loss: 0.4867 - val_acc: 0.7716.781\n",
      "Epoch 4/5\n",
      "22500/22500 [==============================] - 75s - loss: 0.3571 - acc: 0.8462 - val_loss: 0.6198 - val_acc: 0.7232\n",
      "Epoch 5/5\n",
      "22500/22500 [==============================] - 66s - loss: 0.2628 - acc: 0.8928 - val_loss: 0.5777 - val_acc: 0.7788\n"
     ]
    }
   ],
   "source": [
    "RNN.compile(optimizer='adam', loss='binary_crossentropy', metrics=['acc'])\n",
    "history = RNN.fit(X, y, epochs=5, validation_split=0.1)"
   ]
  },
  {
   "cell_type": "code",
   "execution_count": 57,
   "metadata": {},
   "outputs": [
    {
     "data": {
      "text/plain": [
       "[<matplotlib.lines.Line2D at 0x7f953a9edac8>]"
      ]
     },
     "execution_count": 57,
     "metadata": {},
     "output_type": "execute_result"
    },
    {
     "data": {
      "image/png": "[encoded data removed]",
      "text/plain": [
       "<matplotlib.figure.Figure at 0x7f953a9edcf8>"
      ]
     },
     "metadata": {},
     "output_type": "display_data"
    }
   ],
   "source": [
    "plt.plot(history.history['acc'], c='r')\n",
    "plt.plot(history.history['val_acc'], c='b')"
   ]
  },
  {
   "cell_type": "markdown",
   "metadata": {},
   "source": [
    "## Представление текста\n",
    "\n",
    "Как и всегда, нейросети не берут на вход сырые текстовые данные. Как правило текст разделяют (или *токенизируют*) на мелкие куски (буквы, слова, отдельные частые сочетания букв — BPE). Дальше каждый с каждым таким токеном ассоциируется его векторное представление — embedding, которое подается на вход рекуррентной сети."
   ]
  },
  {
   "cell_type": "markdown",
   "metadata": {},
   "source": [
    "## One-hot и embedding\n",
    "\n",
    "Самый простой способ ассоциировать с каждым токеном свой вектор — дать каждому.\n",
    "\n",
    "По сути, one-hot с последовательным применением матрицы эквивалентен embedding-у с самого начала, но дольше."
   ]
  },
  {
   "cell_type": "markdown",
   "metadata": {},
   "source": [
    "В выходных данных мы пока не придумали ничего лучше, чем one-hot."
   ]
  },
  {
   "cell_type": "markdown",
   "metadata": {},
   "source": [
    "Они имеют скрытое состояние — какой-то вектор $h$. Они обрабатывают данные последовательно каждый раз принимая на вход какое-то новое значение."
   ]
  },
  {
   "cell_type": "markdown",
   "metadata": {},
   "source": [
    "Сеть принимает теперь два входа: обновление состоянияи свое скрытое состояние с предыдущего шага."
   ]
  },
  {
   "cell_type": "markdown",
   "metadata": {},
   "source": [
    "teacher forcing — это когда мы даем на вход правильный символ а не тот, который мы предсказали."
   ]
  },
  {
   "cell_type": "code",
   "execution_count": null,
   "metadata": {
    "collapsed": true
   },
   "outputs": [],
   "source": []
  },
  {
   "cell_type": "markdown",
   "metadata": {},
   "source": [
    "# Генерация текстов"
   ]
  },
  {
   "cell_type": "markdown",
   "metadata": {},
   "source": [
    "Домашним заданием будет сделать генерацию музыки (<-- это вообще можно сделать без LSTM?)."
   ]
  },
  {
   "cell_type": "markdown",
   "metadata": {},
   "source": [
    "# Как на самом деле работают RNN"
   ]
  },
  {
   "cell_type": "markdown",
   "metadata": {},
   "source": [
    "В рекуррентных сетях центральная проблема — затухающий градиент. С ней борятся с помощью механизма памяти."
   ]
  },
  {
   "cell_type": "markdown",
   "metadata": {},
   "source": [
    "# Long-short Term Memory"
   ]
  },
  {
   "cell_type": "markdown",
   "metadata": {},
   "source": [
    "Представьте конвейерную ленту, которая движется вдоль наших последовательных данных. Информация с данных может запрыгивать на ленту, проезжать вперед и спрыгивать оттуда, когда она понадобится. Примерно так работает LSTM: он сохраняет информацию для более позднего времени, когда она понадобится."
   ]
  },
  {
   "cell_type": "markdown",
   "metadata": {},
   "source": [
    "Используется она точно так же, как и SimpleRNN, только внутри устроена иначе.\n",
    "\n",
    "**Задание**. Запустите код предыдущего примера с LSTM и GRU и посмотрите разницу в качестве."
   ]
  },
  {
   "cell_type": "markdown",
   "metadata": {},
   "source": [
    "![LSTM](https://cdn-images-1.medium.com/max/2000/1*S0Y1A3KXYO7_eSug_KsK-Q.png)"
   ]
  },
  {
   "cell_type": "markdown",
   "metadata": {},
   "source": [
    "Осуществляется это так: есть два типа памяти, долгосрочная и короткосрочная. Последняя используется для того, чтобы выбрать, что нам интересно во входных данных."
   ]
  },
  {
   "cell_type": "markdown",
   "metadata": {},
   "source": [
    "# Attention"
   ]
  },
  {
   "cell_type": "markdown",
   "metadata": {},
   "source": [
    "С 2017 года в самом передовом нейросетевом NLP почти всегда используется в каком-то виде механизм attention (англ. «внимание»).\n",
    "\n",
    "В Google даже сделали сеть для перевода («Transformer»), которая не использует каких-либо скрытых состояний, которая сейчас считается лучшей в мире (см. Attention is All You Need).\n",
    "\n",
    "Его можно рассмотреть как базу данных: у нас есть какие-то данные (векторизованные, одного размера), у них есть ключи, и нам по запросу нужно эти данные вернуть."
   ]
  },
  {
   "cell_type": "markdown",
   "metadata": {},
   "source": [
    "# Трюки и хаки"
   ]
  },
  {
   "cell_type": "markdown",
   "metadata": {},
   "source": [
    "Если у нас мало данных, то word2vec можно заморозить.\n",
    "\n",
    "LSTM и GRU можно сделать двусторонними. В Keras это делается просто:"
   ]
  }
 ],
 "metadata": {
  "kernelspec": {
   "display_name": "Python 3",
   "language": "python",
   "name": "python3"
  },
  "language_info": {
   "codemirror_mode": {
    "name": "ipython",
    "version": 3
   },
   "file_extension": ".py",
   "mimetype": "text/x-python",
   "name": "python",
   "nbconvert_exporter": "python",
   "pygments_lexer": "ipython3",
   "version": "3.5.2"
  }
 },
 "nbformat": 4,
 "nbformat_minor": 2
}
