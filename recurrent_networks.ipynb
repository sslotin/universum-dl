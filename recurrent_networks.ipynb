{
 "cells": [
  {
   "cell_type": "markdown",
   "metadata": {},
   "source": [
    "# Последовательные данные"
   ]
  },
  {
   "cell_type": "markdown",
   "metadata": {},
   "source": [
    "Для анализа последовательных данных — звука, музыки, текста, температуры в Мюнхене, изменения цены биткоина, спортивной статистики, шахматных ходов, состояний игры в Доте — используются свои архитектуры, использующие «память» для обработки данных произвольной длины."
   ]
  },
  {
   "cell_type": "markdown",
   "metadata": {},
   "source": [
    "## Рекуррентные сети\n",
    "\n"
   ]
  },
  {
   "cell_type": "markdown",
   "metadata": {},
   "source": [
    "Пусть у нас есть какая-нибудь функция от двух векторных аргументов $f(x, h)$ (нейросеть с trainable параметрами — тоже как бы функция) и какая-нибудь последовательость входных данных $\\{x_1, x_2, \\ldots, x_n\\}$.\n",
    "\n",
    "Получим последовательность $\\{h_1, h_2, \\ldots, h_n\\}$ по следующему правилу: $ h_t = f(x_i, h_{t-1}) $ ($h_0$ предполагаем чем-нибудь изначально инициализированным). Все осталньые $h_i$ будут потом использоваться для чего-то полезного."
   ]
  },
  {
   "cell_type": "markdown",
   "metadata": {},
   "source": [
    "Когда мы это всё развернем, на самом деле получится обычный статический вычислительный граф, выходом которого будет $n$ скрытых состояний."
   ]
  },
  {
   "cell_type": "markdown",
   "metadata": {},
   "source": [
    "![RNN](https://i.stack.imgur.com/hzZ4m.png)"
   ]
  },
  {
   "cell_type": "markdown",
   "metadata": {},
   "source": [
    "Подобные архитектуры и называют рекуррентными сетями."
   ]
  },
  {
   "cell_type": "markdown",
   "metadata": {},
   "source": [
    "# «Затухающий градиент»"
   ]
  },
  {
   "cell_type": "markdown",
   "metadata": {},
   "source": [
    "**В чём проблема**. Мы знаем, что глубокие сети очень трудно обучать. Рекуррентная сеть по сути не отличается от очень глубокой статичной сети, данные которой вставляются в разные уровни глубины. С такой архитектурой будет очень трудно уловить связь, например, между данными на начале последовательности и целевой функцией."
   ]
  },
  {
   "cell_type": "markdown",
   "metadata": {},
   "source": [
    "**LSTM**. Чтобы с этим побороться, придумали различные механизмы памяти. \n",
    "\n",
    "Представьте конвейерную ленту, которая движется вдоль наших последовательных данных. Информация с данных может запрыгивать на ленту, проезжать вперед и спрыгивать оттуда, когда она понадобится. LSTM (long-short term memory) — это тот блок, который решает, какой информации нужно запрыгнуть. Он позволяет сохранять информацию для более позднего времени, когда она понадобится.\n",
    "\n",
    "Он состоит из нескольких «гейтов», каждый из которых представляет собой trainable матрицу, которые решают, что можно забыть, что можно добавить, и что сейчас в данный момент важно от входных данных. Эти гейты считают маски — вектора после softmax — на которые домножаются входные данные.\n",
    "\n",
    "![lstm](images/lstm.png)"
   ]
  },
  {
   "cell_type": "markdown",
   "metadata": {},
   "source": [
    "Эту LSTM-ячейку мы просто будем использовать в качестве $f$. Суть не изменилась: граф также разворачивается в статический, только более сложный."
   ]
  },
  {
   "cell_type": "markdown",
   "metadata": {},
   "source": [
    "![LSTM](https://cdn-images-1.medium.com/max/2000/1*S0Y1A3KXYO7_eSug_KsK-Q.png)"
   ]
  },
  {
   "cell_type": "markdown",
   "metadata": {},
   "source": [
    "# Эмбеддинги"
   ]
  },
  {
   "cell_type": "markdown",
   "metadata": {},
   "source": [
    "Рассмотрим задачу классификации текстов по их темам (тематическое моделирование).\n",
    "\n",
    "Нейросети не берут на вход сырые текстовые данные, а работают с векторами. Как правило, текст разделяют (*токенизируют*) на мелкие куски (буквы, слова, отдельные слоги), а дальше каждый токен заменяется на one-hot вектор размерности словаря.\n",
    "\n",
    "Но что будет, если помножить one-hot вектор на матрицу? Получится просто какая-то строка матрицы. Вместо этой операции можно сразу вставить строку, соответствующую единичке. Эта концепция называется embedding — теперь каждому токену ассоциирован его вектор.\n",
    "\n",
    "**Word2vec**. У этих векторов есть смысл и много применений. В них даже работает всякая алгебра типа «король - мужчина + женщина = королева». Синонимы должны иметь очень близкие вектора.\n",
    "\n",
    "![word2vec](images/word2vec.png)\n",
    "\n",
    "Впрочем, геометрическая интерпретация пока не нашла особых применений.\n",
    "\n",
    "Зацените ещё эту игру: https://research.google.com/semantris"
   ]
  },
  {
   "cell_type": "markdown",
   "metadata": {},
   "source": [
    "word2vec, glove, fasttext — это все эмбеддинги, только посчитанные разными алгоритмами на разных задачах."
   ]
  },
  {
   "cell_type": "markdown",
   "metadata": {},
   "source": [
    "# Пишем код\n",
    "\n",
    "Типичный пайплайн в NLP такой:\n",
    "\n",
    "* Токенизировать данные\n",
    "* Сконвертировать в вектора\n",
    "* Написать модель и зафитить\n",
    "* Сконвертировать обратно (если мы генерируем тоже текст)\n",
    "\n",
    "Только третий пункт относится к DL, остальное тоже нужно сделать, но не сейчас. В примере данные уже будут токенизированы за нас."
   ]
  },
  {
   "cell_type": "markdown",
   "metadata": {},
   "source": [
    "Есть такой сайт, как IMDB — пиндосский кинопоиск. На нём есть отзывы к фильмам, которые бывают положительные и отрицательные. Мы хотим научиться из классифицировать на эти два класса, не зная лейбл, а только сам текст отзыва."
   ]
  },
  {
   "cell_type": "code",
   "execution_count": 12,
   "metadata": {
    "collapsed": true
   },
   "outputs": [],
   "source": [
    "from keras.preprocessing import sequence\n",
    "from keras.datasets import imdb\n",
    "\n",
    "# нужно как-то ограничить число токенов\n",
    "# редкие токены будут объединены в один токен <unk>\n",
    "vocab_size = 10000\n",
    "embedding_dim = 50 # вектор этого размера будет ассоциирован с каждым \n",
    "\n",
    "(X, y), _ = imdb.load_data(num_words=vocab_size)"
   ]
  },
  {
   "cell_type": "markdown",
   "metadata": {},
   "source": [
    "Камень в сторону фреймворков, строящих статический вычислительный граф (Keras относится к ним): оно на практике реализовано так, как на первой картинке: просто все разворачивается в один длинный граф с расшаренными весами. Это дает такое ограничение: внутри батча все данные должны быть одной длины. Даже если у нас есть очень короткие предложения, их нужно дополнить специальными токенами до некоторой константы maxlen. Многие операции будут считаться впустую, но ничего с этим нам пока не поделать."
   ]
  },
  {
   "cell_type": "markdown",
   "metadata": {},
   "source": [
    "Подберем правильный maxlen:"
   ]
  },
  {
   "cell_type": "code",
   "execution_count": 13,
   "metadata": {},
   "outputs": [
    {
     "name": "stdout",
     "output_type": "stream",
     "text": [
      "467.0\n"
     ]
    },
    {
     "data": {
      "image/png": "[encoded data removed]",
      "text/plain": [
       "<matplotlib.figure.Figure at 0x7f8de97bfcf8>"
      ]
     },
     "metadata": {},
     "output_type": "display_data"
    }
   ],
   "source": [
    "import numpy as np\n",
    "import matplotlib.pyplot as plt\n",
    "%matplotlib inline\n",
    "\n",
    "import seaborn as sns\n",
    "sns.set()\n",
    "\n",
    "lens = [len(x) for x in X]\n",
    "sns.distplot(lens)\n",
    "print(np.percentile(lens, 90))"
   ]
  },
  {
   "cell_type": "markdown",
   "metadata": {},
   "source": [
    "Можем выбрать в качестве этого параметра что-то около 500. Это покроет более 90% примеров, и это хороший trade-off между потерей информации и скоростью работы."
   ]
  },
  {
   "cell_type": "code",
   "execution_count": 14,
   "metadata": {
    "collapsed": true
   },
   "outputs": [],
   "source": [
    "maxlen = 500\n",
    "X = sequence.pad_sequences(X, maxlen=maxlen)"
   ]
  },
  {
   "cell_type": "code",
   "execution_count": 15,
   "metadata": {},
   "outputs": [
    {
     "name": "stdout",
     "output_type": "stream",
     "text": [
      "_________________________________________________________________\n",
      "Layer (type)                 Output Shape              Param #   \n",
      "=================================================================\n",
      "embedding_1 (Embedding)      (None, None, 50)          500000    \n",
      "_________________________________________________________________\n",
      "lstm_2 (LSTM)                (None, 50)                20200     \n",
      "_________________________________________________________________\n",
      "dense_2 (Dense)              (None, 1)                 51        \n",
      "=================================================================\n",
      "Total params: 520,251\n",
      "Trainable params: 520,251\n",
      "Non-trainable params: 0\n",
      "_________________________________________________________________\n"
     ]
    }
   ],
   "source": [
    "from keras.layers import LSTM, Dense, Embedding\n",
    "from keras.models import Sequential\n",
    "\n",
    "RNN = Sequential([\n",
    "    Embedding(vocab_size, embedding_dim), # эта шняга тупо переводит int-ы соответствующие вектора\n",
    "    LSTM(embedding_dim), # lstm, примененный к векторизованной последовательности\n",
    "    # вернет свое итоговое состояние\n",
    "    Dense(1, activation='sigmoid')\n",
    "])\n",
    "\n",
    "RNN.summary()"
   ]
  },
  {
   "cell_type": "code",
   "execution_count": 16,
   "metadata": {},
   "outputs": [
    {
     "name": "stdout",
     "output_type": "stream",
     "text": [
      "Train on 22500 samples, validate on 2500 samples\n",
      "Epoch 1/5\n",
      "22500/22500 [==============================] - 1585s - loss: 0.4982 - acc: 0.7549 - val_loss: 0.3985 - val_acc: 0.8244\n",
      "Epoch 2/5\n",
      "22500/22500 [==============================] - 1713s - loss: 0.2828 - acc: 0.8903 - val_loss: 0.3320 - val_acc: 0.8768\n",
      "Epoch 3/5\n",
      "22500/22500 [==============================] - 286s - loss: 0.2364 - acc: 0.9079 - val_loss: 0.3665 - val_acc: 0.8424\n",
      "Epoch 4/5\n",
      "22500/22500 [==============================] - 327s - loss: 0.2279 - acc: 0.9088 - val_loss: 0.4192 - val_acc: 0.8672\n",
      "Epoch 5/5\n",
      "22500/22500 [==============================] - 368s - loss: 0.1400 - acc: 0.9511 - val_loss: 0.4796 - val_acc: 0.7960\n"
     ]
    }
   ],
   "source": [
    "RNN.compile(optimizer='adam', loss='binary_crossentropy', metrics=['acc'])\n",
    "history = RNN.fit(X, y, epochs=5, validation_split=0.1)"
   ]
  },
  {
   "cell_type": "markdown",
   "metadata": {},
   "source": [
    "# Transfer Learning"
   ]
  },
  {
   "cell_type": "markdown",
   "metadata": {},
   "source": [
    "Если вы поизучали то, что вернул .summary(), то могли заметить, что большинство параметров — сами embedding-и, и в основном на их обучение уходит время.\n",
    "\n",
    "Так же как и с CNN, где мы «крали» веса с начальных слоев, здесь мы можем сделать то же самое, украв embedding-и у более основательно подошедших к этому людей."
   ]
  },
  {
   "cell_type": "markdown",
   "metadata": {},
   "source": [
    "Обычно эти шняги распространяют в формате «слово в unicode и 300 флоатов через пробел»."
   ]
  },
  {
   "cell_type": "code",
   "execution_count": null,
   "metadata": {},
   "outputs": [],
   "source": [
    "with open('glove.vec') as file:\n",
    "    for line in file:\n",
    "        l = line.split()\n",
    "        word = l[0]\n",
    "        vec = np.array([float(x) for x in l[1:]])\n",
    "        embeddings += [vec]\n",
    "embeddings = np.stack(embeddings)"
   ]
  },
  {
   "cell_type": "markdown",
   "metadata": {},
   "source": [
    "Теперь можно указать для слоя Embedding, откуда брать веса, через `weights=[embeddings]` и зафризить через trainable=False. Весь Transfer Learning делается примерно так. Правда, иногда не размораживают после какой-то эпохи."
   ]
  },
  {
   "cell_type": "markdown",
   "metadata": {},
   "source": [
    "# Свёрточные сети для последовательностей"
   ]
  },
  {
   "cell_type": "markdown",
   "metadata": {},
   "source": [
    "Как бы мы обрабатываем последовательности произвольной длины, но и как бы нет. Можно фиксировать длину предложения и попробовать уже известные архитектуры.\n",
    "\n",
    "Для некоторых задач — например, распознования речи, — свёрточные сети могут быть даже лучше. Загуглите WaveNet."
   ]
  },
  {
   "cell_type": "code",
   "execution_count": 23,
   "metadata": {},
   "outputs": [
    {
     "name": "stdout",
     "output_type": "stream",
     "text": [
      "_________________________________________________________________\n",
      "Layer (type)                 Output Shape              Param #   \n",
      "=================================================================\n",
      "embedding_2 (Embedding)      (None, 500, 50)           500000    \n",
      "_________________________________________________________________\n",
      "conv1d_1 (Conv1D)            (None, 500, 32)           11232     \n",
      "_________________________________________________________________\n",
      "max_pooling1d_1 (MaxPooling1 (None, 250, 32)           0         \n",
      "_________________________________________________________________\n",
      "conv1d_2 (Conv1D)            (None, 250, 64)           14400     \n",
      "_________________________________________________________________\n",
      "global_max_pooling1d_1 (Glob (None, 64)                0         \n",
      "_________________________________________________________________\n",
      "dropout_1 (Dropout)          (None, 64)                0         \n",
      "_________________________________________________________________\n",
      "dense_3 (Dense)              (None, 32)                2080      \n",
      "_________________________________________________________________\n",
      "dense_4 (Dense)              (None, 1)                 33        \n",
      "=================================================================\n",
      "Total params: 527,745\n",
      "Trainable params: 27,745\n",
      "Non-trainable params: 500,000\n",
      "_________________________________________________________________\n"
     ]
    }
   ],
   "source": [
    "from keras.layers import Conv1D, MaxPooling1D, GlobalMaxPooling1D, Dropout\n",
    "\n",
    "TextCNN = Sequential([\n",
    "    Embedding(vocab_size, embedding_dim, weights=[embeddings], input_length=maxlen, trainable=False),\n",
    "    Conv1D(32, 7, activation='relu', padding='same'),\n",
    "    MaxPooling1D(2),\n",
    "    Conv1D(64, 7, activation='relu', padding='same'),\n",
    "    GlobalMaxPooling1D(),\n",
    "    Dropout(0.5),\n",
    "    Dense(32, activation='relu'),\n",
    "    Dense(1, activation='sigmoid'),\n",
    "])\n",
    "\n",
    "TextCNN.summary()"
   ]
  },
  {
   "cell_type": "markdown",
   "metadata": {},
   "source": [
    "# Как правильно делать токенизацию"
   ]
  },
  {
   "cell_type": "markdown",
   "metadata": {},
   "source": [
    "Токенизация — это всегда головная боль. Её кодить не сложно, но муторно, и поэтому было написано дофига библиотек, которые это делают. В частности, какие-то токенизаторы есть и в Keras."
   ]
  },
  {
   "cell_type": "code",
   "execution_count": 24,
   "metadata": {
    "collapsed": true
   },
   "outputs": [],
   "source": [
    "from keras.preprocessing.text import Tokenizer\n",
    "\n",
    "tokenizer = Tokenizer(num_words=10)\n",
    "tokenizer.fit_on_texts('гыгыгы')\n",
    "tokenized = tokenizer.texts_to_sequences('азаза')"
   ]
  },
  {
   "cell_type": "markdown",
   "metadata": {},
   "source": [
    "# Часть 2: Языковые модели"
   ]
  },
  {
   "cell_type": "code",
   "execution_count": 17,
   "metadata": {},
   "outputs": [
    {
     "data": {
      "image/jpeg": "[encoded data removed]",
      "text/html": [
       "\n",
       "        <iframe\n",
       "            width=\"400\"\n",
       "            height=\"300\"\n",
       "            src=\"https://www.youtube.com/embed/65GbpVZTgAk\"\n",
       "            frameborder=\"0\"\n",
       "            allowfullscreen\n",
       "        ></iframe>\n",
       "        "
      ],
      "text/plain": [
       "<IPython.lib.display.YouTubeVideo at 0x7f8ded31a550>"
      ]
     },
     "execution_count": 17,
     "metadata": {},
     "output_type": "execute_result"
    }
   ],
   "source": [
    "from IPython.display import YouTubeVideo\n",
    "YouTubeVideo('65GbpVZTgAk')"
   ]
  },
  {
   "cell_type": "markdown",
   "metadata": {},
   "source": [
    "http://karpathy.github.io/2015/05/21/rnn-effectiveness/"
   ]
  },
  {
   "cell_type": "markdown",
   "metadata": {},
   "source": [
    "# Марковские цепи и генеративное моделирование"
   ]
  },
  {
   "cell_type": "markdown",
   "metadata": {},
   "source": [
    "До этого момента мы рассматривали только задачу делания каких-либо вывода по данным. Это скучно, и ML не только об этом. Во всех следующих занятиях мы будем в каком-то виде генерировать данные. Yay!"
   ]
  },
  {
   "cell_type": "markdown",
   "metadata": {},
   "source": [
    "**Марковский процесс** — случайный процесс, эволюция которого на каждом шаге не зависит от предшествовавшей истории.\n",
    "\n",
    "Естественный язык, музыку и всё такое можно тоже моделировать как марковский процесс, где состоянием будет всё уже сгенерированное. Языковые модели — это аппроксиматоры такого марковского процесса. Одним из способов её реализовать является рекуррентная сеть, обученная предсказывать следующий токен по всем предыдущим.\n",
    "\n",
    "![markov](images/markov.png)"
   ]
  },
  {
   "cell_type": "markdown",
   "metadata": {},
   "source": [
    "После примерно 20 эпох оно должно генерировать что-то адекватное. Лучше перенесите это на Colab, потому что 20 эпох это долго."
   ]
  },
  {
   "cell_type": "code",
   "execution_count": 1,
   "metadata": {},
   "outputs": [
    {
     "name": "stderr",
     "output_type": "stream",
     "text": [
      "Using TensorFlow backend.\n"
     ]
    }
   ],
   "source": [
    "from keras.models import Sequential\n",
    "from keras.layers import Dense, Activation\n",
    "from keras.layers import LSTM\n",
    "from keras.utils.data_utils import get_file\n",
    "import numpy as np\n",
    "import random\n",
    "import sys"
   ]
  },
  {
   "cell_type": "code",
   "execution_count": 2,
   "metadata": {},
   "outputs": [
    {
     "name": "stdout",
     "output_type": "stream",
     "text": [
      "Downloading data from https://s3.amazonaws.com/text-datasets/nietzsche.txt\n",
      "581632/600901 [============================>.] - ETA: 0s600893\n"
     ]
    }
   ],
   "source": [
    "path = get_file('nietzsche.txt', origin='https://s3.amazonaws.com/text-datasets/nietzsche.txt')\n",
    "text = open(path).read().lower()\n",
    "print(len(text))"
   ]
  },
  {
   "cell_type": "code",
   "execution_count": 6,
   "metadata": {},
   "outputs": [
    {
     "name": "stdout",
     "output_type": "stream",
     "text": [
      "57\n"
     ]
    }
   ],
   "source": [
    "idx2char = sorted(list(set(text)))\n",
    "char2idx = dict((c, i) for i, c in enumerate(chars))\n",
    "print(len(idx2char)) # это сколько у нас будет токенов"
   ]
  },
  {
   "cell_type": "code",
   "execution_count": 7,
   "metadata": {},
   "outputs": [
    {
     "name": "stdout",
     "output_type": "stream",
     "text": [
      "60085\n"
     ]
    }
   ],
   "source": [
    "maxlen = 50\n",
    "step = 10\n",
    "sentences = []\n",
    "targets = []\n",
    "for i in range(0, len(text) - maxlen, step):\n",
    "    sentences.append(text[i: i + maxlen])\n",
    "    targets.append(text[i + maxlen])\n",
    "print(len(sentences)) # сколько у нас получилось сэмплов"
   ]
  },
  {
   "cell_type": "markdown",
   "metadata": {},
   "source": [
    "Вспоминаем, что Keras не любит что-либо не векторное. Сделаем one-hot encoding."
   ]
  },
  {
   "cell_type": "code",
   "execution_count": 9,
   "metadata": {},
   "outputs": [],
   "source": [
    "X = np.zeros((len(sentences), maxlen, len(idx2char)))\n",
    "y = np.zeros((len(sentences), len(idx2char)))\n",
    "for i, sentence in enumerate(sentences):\n",
    "    for j, c in enumerate(sentence):\n",
    "        X[i, j, char2idx[c]] = 1\n",
    "    y[i, char2idx[targets[i]]] = 1"
   ]
  },
  {
   "cell_type": "code",
   "execution_count": 10,
   "metadata": {
    "collapsed": true
   },
   "outputs": [],
   "source": [
    "model = Sequential([\n",
    "    LSTM(128, input_shape=(maxlen, len(idx2char))),\n",
    "    Dense(len(chars), activation='softmax'),\n",
    "])\n",
    "\n",
    "model.compile(loss='categorical_crossentropy', optimizer='adam')"
   ]
  },
  {
   "cell_type": "markdown",
   "metadata": {},
   "source": [
    "Столько теории, обработки данных, а модель в итоге занимает 3 строчки. В этом вся суть NLP."
   ]
  },
  {
   "cell_type": "markdown",
   "metadata": {},
   "source": [
    "Перед тем, как её зафитить, напишем функцию, которая будет генерировать предложение, чтобы во время обучения смотреть, что она умеет."
   ]
  },
  {
   "cell_type": "code",
   "execution_count": null,
   "metadata": {
    "collapsed": true
   },
   "outputs": [],
   "source": [
    "    sampled = [char_to_idx[c] for c in header]\n",
    "    for c in header[:-1]:\n",
    "        batch = np.zeros((1, 1))\n",
    "        batch[0, 0] = char_to_idx[c]\n",
    "        model.predict_on_batch(batch)\n",
    "\n",
    "    for i in range(num_chars):\n",
    "        batch = np.zeros((1, 1))\n",
    "        if sampled:\n",
    "            batch[0, 0] = sampled[-1]\n",
    "        else:\n",
    "            batch[0, 0] = np.random.randint(vocab_size)\n",
    "        result = model.predict_on_batch(batch).ravel()\n",
    "        sample = np.random.choice(range(vocab_size), p=result)\n",
    "        sampled.append(sample)\n",
    "        \n",
    "def sample(preds, temperature=1.0):\n",
    "    preds = np.asarray(preds).astype('float64')\n",
    "    preds = np.log(preds) / temperature\n",
    "    exp_preds = np.exp(preds)\n",
    "    preds = exp_preds / np.sum(exp_preds)\n",
    "    probas = np.random.multinomial(1, preds, 1)\n",
    "    return np.argmax(probas)"
   ]
  },
  {
   "cell_type": "markdown",
   "metadata": {},
   "source": [
    "Будем выводить сгенерированные предложения по ходу обучения. Осторожно, код вообще не тестирован, но идейно правильный."
   ]
  },
  {
   "cell_type": "code",
   "execution_count": null,
   "metadata": {
    "collapsed": true
   },
   "outputs": [],
   "source": [
    "for epoch in range(1, 20):\n",
    "    print('Iteration', iteration)\n",
    "    model.fit(X, y, batch_size=128, epochs=1)\n",
    "\n",
    "    start_index = random.randint(0, len(text) - maxlen - 1)\n",
    "    generated = ''\n",
    "    sentence = text[start_index: start_index + maxlen]\n",
    "    generated += sentence\n",
    "    print(generated + '...')\n",
    "\n",
    "    for i in range(100):\n",
    "        data = np.zeros((1, maxlen, len(chars)))\n",
    "        for t, char in enumerate(sentence):\n",
    "            data[0, t, char2idx[char]] = 1.\n",
    "\n",
    "        preds = model.predict(data, verbose=0)[0]\n",
    "        next_index = np.random.choice(range(len(preds)), p=preds)\n",
    "        next_char = indices_char[next_index]\n",
    "\n",
    "        generated += next_char\n",
    "        sentence = sentence[1:] + next_char\n",
    "    \n",
    "    print(generated)"
   ]
  },
  {
   "cell_type": "markdown",
   "metadata": {},
   "source": [
    "Языковые модели используются очень много где. Они являются центральной моделью NLP.\n",
    "\n",
    "* Ими можно делать диалоговые системы: скармливаем предыдущее сообщение и генерируем следующее до токена остановки.\n",
    "* Подсказки поиска в Google делаются примерно на них.\n",
    "* Автокоррекцию и спеллчекинг можно сделать, находя «странные» токены.\n",
    "* Их можно пихнуть в ансамбль для задачи перевода, например.\n",
    "* Сжатие текстовых данных основано на языковых моделях (правда не нейросетевых, потому что они сами весят много). Есть способ сжимать данные эффективно, если мы знаем их распределение."
   ]
  },
  {
   "cell_type": "markdown",
   "metadata": {},
   "source": [
    "# Идеи улучшения"
   ]
  },
  {
   "cell_type": "markdown",
   "metadata": {},
   "source": [
    "**Teacher forcing**. Можно делать лосс не один (предикт последнего символа), а много — мы же можем преобразовывать в распределение каждое из скрытых состояний и попыться предсказать следующие символы для них.\n",
    "\n",
    "**Embedding**. Заменить one-hot сразу на эмбеддинг для эффективности вычислений.\n",
    "\n",
    "**Токенизация**. Должно получиться намного лучше, если разбивать по словам или чему-то подобному.\n",
    "\n",
    "**Предобученные ембеддинги**. Если использовать какую-то общеприменимую токенизацию, то на неё должны найтись хорошие вектора, которые можно использовать.\n",
    "\n",
    "**Температура**. Можно попробовать перед тем, как прогонять последний слой через softmax, домножить их на какую-то константу. Если эта константа больше 1, то сгенерированный текст окажется более «правдоподобным», но скучным и однообразным, если меньше 1 — то наоборот. С температурой можно поэкспериментировать."
   ]
  },
  {
   "cell_type": "markdown",
   "metadata": {},
   "source": [
    "# Attention"
   ]
  },
  {
   "cell_type": "markdown",
   "metadata": {},
   "source": [
    "С 2017 года в самом передовом нейросетевом NLP почти всегда используется в каком-то виде механизм attention (англ. «внимание»).\n",
    "\n",
    "В Google даже сделали сеть для перевода («Transformer»), которая не использует каких-либо скрытых состояний, которая сейчас считается лучшей в мире (см. Attention is All You Need).\n",
    "\n",
    "Его можно рассмотреть как базу данных: у нас есть какие-то данные (векторизованные, одного размера), у них есть ключи, и нам по запросу нужно эти данные вернуть.\n",
    "\n",
    "-- TODO --"
   ]
  }
 ],
 "metadata": {
  "kernelspec": {
   "display_name": "Python 3",
   "language": "python",
   "name": "python3"
  },
  "language_info": {
   "codemirror_mode": {
    "name": "ipython",
    "version": 3
   },
   "file_extension": ".py",
   "mimetype": "text/x-python",
   "name": "python",
   "nbconvert_exporter": "python",
   "pygments_lexer": "ipython3",
   "version": "3.5.2"
  }
 },
 "nbformat": 4,
 "nbformat_minor": 2
}
